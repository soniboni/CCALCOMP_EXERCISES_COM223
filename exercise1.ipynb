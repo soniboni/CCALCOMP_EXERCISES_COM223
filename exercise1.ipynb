{
  "cells": [
    {
      "cell_type": "markdown",
      "metadata": {
        "id": "view-in-github",
        "colab_type": "text"
      },
      "source": [
        "<a href=\"https://colab.research.google.com/github/soniboni/CCALCOMP_EXERCISES_COM223/blob/main/exercise1.ipynb\" target=\"_parent\"><img src=\"https://colab.research.google.com/assets/colab-badge.svg\" alt=\"Open In Colab\"/></a>"
      ]
    },
    {
      "cell_type": "markdown",
      "metadata": {
        "id": "3-prKGbfwFRd"
      },
      "source": [
        "# Exercise 1"
      ]
    },
    {
      "cell_type": "markdown",
      "metadata": {
        "id": "kBW-_z9HwFRf"
      },
      "source": [
        "Please follow the instructions in each number. Do not remove or modify the pre-defined code!"
      ]
    },
    {
      "cell_type": "code",
      "execution_count": null,
      "metadata": {
        "id": "ABAdD_ngwFRg"
      },
      "outputs": [],
      "source": [
        "# Add a vertex to the set of vertices and the graph\n",
        "def add_vertex(v):\n",
        "  global graph\n",
        "  global vertices_no\n",
        "  global vertices\n",
        "  if v in vertices:\n",
        "    print(\"Vertex \", v, \" already exists\")\n",
        "  else:\n",
        "    vertices_no = vertices_no + 1\n",
        "    vertices.append(v)\n",
        "    if vertices_no > 1:\n",
        "        for vertex in graph:\n",
        "            vertex.append(0)\n",
        "    temp = []\n",
        "    for i in range(vertices_no):\n",
        "        temp.append(0)\n",
        "    graph.append(temp)\n",
        "\n",
        "# Add an edge between vertex v1 and v2 with edge weight e\n",
        "def add_edge(v1, v2, e):\n",
        "    global graph\n",
        "    global vertices_no\n",
        "    global vertices\n",
        "    # Check if vertex v1 is a valid vertex\n",
        "    if v1 not in vertices:\n",
        "        print(\"Vertex \", v1, \" does not exist.\")\n",
        "    # Check if vertex v1 is a valid vertex\n",
        "    elif v2 not in vertices:\n",
        "        print(\"Vertex \", v2, \" does not exist.\")\n",
        "    # Since this code is not restricted to a directed or\n",
        "    # an undirected graph, an edge between v1 v2 does not\n",
        "    # imply that an edge exists between v2 and v1\n",
        "    else:\n",
        "        index1 = vertices.index(v1)\n",
        "        index2 = vertices.index(v2)\n",
        "        graph[index1][index2] = e\n",
        "\n",
        "# Print the graph\n",
        "def print_graph():\n",
        "  global graph\n",
        "  global vertices_no\n",
        "  for i in range(vertices_no):\n",
        "    for j in range(vertices_no):\n",
        "      if graph[i][j] != 0:\n",
        "        print(vertices[i], \" -> \", vertices[j],\n",
        "              \" edge weight: \", graph[i][j])"
      ]
    },
    {
      "cell_type": "code",
      "execution_count": null,
      "metadata": {
        "id": "912w9tR0wFRh"
      },
      "outputs": [],
      "source": [
        "# stores the vertices in the graph\n",
        "vertices = []\n",
        "# stores the number of vertices in the graph\n",
        "vertices_no = 0\n",
        "graph = []"
      ]
    },
    {
      "cell_type": "markdown",
      "metadata": {
        "id": "lzkib3wYwFRh"
      },
      "source": [
        "<img src=\"https://github.com/robitussin/CCALCOMP_EXERCISES/blob/main/images/directed%20graph2.png?raw=true\"/>"
      ]
    },
    {
      "cell_type": "markdown",
      "metadata": {
        "id": "Qfh-2gbPwFRi"
      },
      "source": [
        "1. Print the edges and vertices of the graph in set representation. (`25 points`)"
      ]
    },
    {
      "cell_type": "code",
      "execution_count": null,
      "metadata": {
        "id": "FSymqoxmwFRi",
        "colab": {
          "base_uri": "https://localhost:8080/"
        },
        "outputId": "c3703244-2e64-474b-9aca-52fc261413a2"
      },
      "outputs": [
        {
          "output_type": "stream",
          "name": "stdout",
          "text": [
            "G(5, 6)\n",
            "V = {'C', 'D', 'E', 'B', 'A'}\n",
            "E = {('A', 'D'), ('C', 'D'), ('C', 'B'), ('E', 'A'), ('A', 'C'), ('B', 'A')}\n"
          ]
        }
      ],
      "source": [
        "vertices_arr = {'A', 'B', 'C', 'D', 'E'}\n",
        "edges = {('A', 'C'), ('A','D'), ('B','A'),('C','D'),('C','B'),('E','A')}\n",
        "\n",
        "print(f\"G({len(vertices_arr)}, {len(edges)})\")\n",
        "print(f\"V = {vertices_arr}\")\n",
        "print(f\"E = {edges}\")"
      ]
    },
    {
      "cell_type": "markdown",
      "metadata": {
        "id": "NHt6QEFzwFRi"
      },
      "source": [
        "2. Implement the weighted graph in python code. Use the print_graph() function. (`25 points`)"
      ]
    },
    {
      "cell_type": "code",
      "execution_count": null,
      "metadata": {
        "id": "fcYP9VF9wFRj",
        "colab": {
          "base_uri": "https://localhost:8080/"
        },
        "outputId": "7e981c34-e64d-4956-9ad2-3deb86ff18ee"
      },
      "outputs": [
        {
          "output_type": "stream",
          "name": "stdout",
          "text": [
            "Vertex  A  already exists\n",
            "Vertex  B  already exists\n",
            "Vertex  C  already exists\n",
            "A  ->  C  edge weight:  12\n",
            "A  ->  D  edge weight:  60\n",
            "B  ->  A  edge weight:  10\n",
            "C  ->  B  edge weight:  20\n",
            "C  ->  D  edge weight:  32\n",
            "E  ->  A  edge weight:  7\n"
          ]
        }
      ],
      "source": [
        "add_vertex('A')\n",
        "add_vertex('B')\n",
        "add_vertex('C')\n",
        "add_vertex('D')\n",
        "add_vertex('E')\n",
        "\n",
        "add_edge('A', 'C', 12)\n",
        "add_edge('A', 'D', 60)\n",
        "add_edge('B', 'A', 10)\n",
        "add_edge('C', 'D', 32)\n",
        "add_edge('C', 'B', 20)\n",
        "add_edge('E', 'A', 7)\n",
        "\n",
        "print_graph()"
      ]
    },
    {
      "cell_type": "markdown",
      "metadata": {
        "id": "kD-6afNTwFRj"
      },
      "source": [
        "3. You decided to go on a trip around the philippines. Being a computer scientist, you wanted to find the optimal route that would cost the least amount of money to travel all four cities. Find the route and print the total cost of the most optimal route. (`50 points`)"
      ]
    },
    {
      "cell_type": "markdown",
      "metadata": {
        "id": "cBHIHSIewFRj"
      },
      "source": [
        "<img src=\"https://github.com/robitussin/CCALCOMP_EXERCISES/blob/main/images/trip.png?raw=true\" width=\"500\" height=\"600\"/>"
      ]
    },
    {
      "cell_type": "code",
      "execution_count": null,
      "metadata": {
        "id": "yNwmvIXnwFRj",
        "colab": {
          "base_uri": "https://localhost:8080/"
        },
        "outputId": "bc9cc47f-a3e9-4d3c-908a-8554d6292a5f"
      },
      "outputs": [
        {
          "output_type": "stream",
          "name": "stdout",
          "text": [
            "Cheapest Price: 11500\n",
            "Cheapest Route: (0, 1, 3, 2, 0)\n",
            "0 = Manila\n",
            "1 = Davao\n",
            "2 = Tacloban\n",
            "3 = Puerto Princesa\n",
            "Optimal Route: Manila -> Davao -> Puerto Princessa -> Tacloban -> Manila\n"
          ]
        }
      ],
      "source": [
        "def calculate_total_price(price_matrix, route):\n",
        "  \"\"\"\n",
        "  Calculates the total price for a given route.\n",
        "  \"\"\"\n",
        "  total_price = 0\n",
        "  for i in range(len(route) - 1):\n",
        "    city1 = route[i]\n",
        "    city2 = route[i + 1]\n",
        "    total_price += price_matrix[city1][city2]\n",
        "  # Add price from last city back to starting city\n",
        "  total_price += price_matrix[route[-1]][route[0]]\n",
        "  return total_price\n",
        "\n",
        "def find_cheapest_route(price_matrix):\n",
        "  \"\"\"\n",
        "  Finds the cheapest route using a brute-force approach.\n",
        "  \"\"\"\n",
        "  num_cities = len(price_matrix)\n",
        "  cheapest_price = float('inf')  # Set to positive infinity\n",
        "  cheapest_route = None\n",
        "\n",
        "  # Generate all permutations of cities (excluding starting city)\n",
        "  from itertools import permutations\n",
        "  for route in permutations(range(1, num_cities)):\n",
        "    # Create a complete route by adding the starting city at the beginning and end\n",
        "    full_route = (0,) + route + (0,)\n",
        "    price = calculate_total_price(price_matrix, full_route)\n",
        "    if price < cheapest_price:\n",
        "      cheapest_price = price\n",
        "      cheapest_route = full_route\n",
        "\n",
        "  return cheapest_price, cheapest_route\n",
        "\n",
        "# Example usage\n",
        "price_matrix = [\n",
        "  [0, 5000, 1000, 8000],  # Prices from Manila\n",
        "  [5000, 0, 2000, 4000],   # Prices from Davao\n",
        "  [1000, 2000, 0, 1500],   # Prices from Tacloban\n",
        "  [8000, 4000, 1500, 0]    # Prices from Puerto Princesa\n",
        "]\n",
        "\n",
        "cheapest_price, cheapest_route = find_cheapest_route(price_matrix)\n",
        "print(\"Cheapest Price:\", cheapest_price)\n",
        "print(\"Cheapest Route:\", cheapest_route)\n",
        "print(\"0 = Manila\")\n",
        "print(\"1 = Davao\")\n",
        "print(\"2 = Tacloban\")\n",
        "print(\"3 = Puerto Princesa\")\n",
        "print(\"Optimal Route: Manila -> Davao -> Puerto Princessa -> Tacloban -> Manila\")\n"
      ]
    }
  ],
  "metadata": {
    "kernelspec": {
      "display_name": "base",
      "language": "python",
      "name": "python3"
    },
    "language_info": {
      "codemirror_mode": {
        "name": "ipython",
        "version": 3
      },
      "file_extension": ".py",
      "mimetype": "text/x-python",
      "name": "python",
      "nbconvert_exporter": "python",
      "pygments_lexer": "ipython3",
      "version": "3.9.6"
    },
    "colab": {
      "provenance": [],
      "toc_visible": true,
      "include_colab_link": true
    }
  },
  "nbformat": 4,
  "nbformat_minor": 0
}