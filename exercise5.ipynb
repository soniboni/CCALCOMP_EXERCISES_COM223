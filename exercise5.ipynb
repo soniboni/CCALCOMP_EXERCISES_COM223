{
  "cells": [
    {
      "cell_type": "markdown",
      "metadata": {
        "id": "view-in-github",
        "colab_type": "text"
      },
      "source": [
        "<a href=\"https://colab.research.google.com/github/soniboni/CCALCOMP_EXERCISES_COM223/blob/main/exercise5.ipynb\" target=\"_parent\"><img src=\"https://colab.research.google.com/assets/colab-badge.svg\" alt=\"Open In Colab\"/></a>"
      ]
    },
    {
      "cell_type": "markdown",
      "metadata": {
        "id": "-8bYOEC8HOQ4"
      },
      "source": [
        "# Exercise 5\n",
        "\n",
        "Please follow the instructions in each number."
      ]
    },
    {
      "cell_type": "markdown",
      "metadata": {
        "id": "FEPXLUAPHOQ6"
      },
      "source": [
        "### Maximum Subarray\n",
        "Given an array of integers nums, find the subarray with the largest sum and return the sum.\n",
        "\n",
        "A subarray is a contiguous non-empty sequence of elements within an array.\n",
        "\n",
        "\n",
        "\n",
        "Example 1:\n",
        "\n",
        "Input: nums = [2,-3,4,-2,2,1,-1,4]\n",
        "\n",
        "Output: 8\n",
        "\n",
        "Explanation: The subarray [4,-2,2,1,-1,4] has the largest sum 8."
      ]
    },
    {
      "cell_type": "markdown",
      "metadata": {
        "id": "D4a-4yS4HOQ7"
      },
      "source": [
        "## Tasks"
      ]
    },
    {
      "cell_type": "markdown",
      "metadata": {
        "id": "v8mlE6kYHOQ7"
      },
      "source": [
        "1. Put your student number in a list and manually compute the maximum subarray in your student number (`10 points`)"
      ]
    },
    {
      "cell_type": "code",
      "execution_count": 1,
      "metadata": {
        "vscode": {
          "languageId": "plaintext"
        },
        "id": "YJMIVpuTHOQ8",
        "colab": {
          "base_uri": "https://localhost:8080/"
        },
        "outputId": "d8404ddd-cd15-4e17-e9a4-b2342a58c58b"
      },
      "outputs": [
        {
          "output_type": "stream",
          "name": "stdout",
          "text": [
            "Student Number: 2022107349\n",
            "Converted List: [2, 0, 2, 2, 1, 0, 7, 3, 4, 9]\n",
            "Maximum Subarray: [2, 0, 2, 2, 1, 0, 7, 3, 4, 9]\n",
            "Sum of Maximum Subarray: 30\n"
          ]
        }
      ],
      "source": [
        "student_number_str = \"2022107349\"\n",
        "student_number = [int(digit) for digit in student_number_str]\n",
        "\n",
        "def manually_compute_max_subarray(nums):\n",
        "    max_subarray = nums\n",
        "    max_sum = sum(nums)\n",
        "    return max_subarray, max_sum\n",
        "\n",
        "max_subarray, max_sum = manually_compute_max_subarray(student_number)\n",
        "\n",
        "print(f\"Student Number: {student_number_str}\")\n",
        "print(f\"Converted List: {student_number}\")\n",
        "print(f\"Maximum Subarray: {max_subarray}\")\n",
        "print(f\"Sum of Maximum Subarray: {max_sum}\")"
      ]
    },
    {
      "cell_type": "markdown",
      "metadata": {
        "id": "nchQgI2KHOQ8"
      },
      "source": [
        "2. Write a program using a brute-force approach to get the maximum-subarray of your student number (`40 points`)"
      ]
    },
    {
      "cell_type": "code",
      "execution_count": 2,
      "metadata": {
        "vscode": {
          "languageId": "plaintext"
        },
        "id": "b9P6oe11HOQ9",
        "colab": {
          "base_uri": "https://localhost:8080/"
        },
        "outputId": "cad89568-bfe3-4d28-d255-b395962c62a6"
      },
      "outputs": [
        {
          "output_type": "stream",
          "name": "stdout",
          "text": [
            "Brute-force Approach:\n",
            "30\n"
          ]
        }
      ],
      "source": [
        "def max_subarray_brute_force(nums):\n",
        "    max_sum = float('-inf')\n",
        "    n = len(nums)\n",
        "\n",
        "    for i in range(n):\n",
        "        for j in range(i, n):\n",
        "            current_sum = sum(nums[i:j+1])\n",
        "            if current_sum > max_sum:\n",
        "                max_sum = current_sum\n",
        "\n",
        "    return max_sum\n",
        "\n",
        "student_number = [2, 0, 2, 2, 1, 0, 7, 3, 4, 9]\n",
        "\n",
        "print(\"Brute-force Approach:\")\n",
        "print(max_subarray_brute_force(student_number))"
      ]
    },
    {
      "cell_type": "markdown",
      "metadata": {
        "id": "NkqAxIx_HOQ9"
      },
      "source": [
        "3. Write a program using a dynamic programming to get the maximum-subarray of your student number (`50 points`)"
      ]
    },
    {
      "cell_type": "code",
      "execution_count": 3,
      "metadata": {
        "vscode": {
          "languageId": "plaintext"
        },
        "id": "BFBp2ARLHOQ9",
        "colab": {
          "base_uri": "https://localhost:8080/"
        },
        "outputId": "751a9625-aa63-4abf-d475-8230ab5d6f71"
      },
      "outputs": [
        {
          "output_type": "stream",
          "name": "stdout",
          "text": [
            "Kadane's Algorithm:\n",
            "30\n"
          ]
        }
      ],
      "source": [
        "def max_subarray_kadane(nums):\n",
        "    max_sum = nums[0]\n",
        "    current_sum = nums[0]\n",
        "\n",
        "    for num in nums[1:]:\n",
        "        current_sum = max(num, current_sum + num)\n",
        "        max_sum = max(max_sum, current_sum)\n",
        "\n",
        "    return max_sum\n",
        "\n",
        "student_number = [2, 0, 2, 2, 1, 0, 7, 3, 4, 9]\n",
        "\n",
        "print(\"Kadane's Algorithm:\")\n",
        "print(max_subarray_kadane(student_number))"
      ]
    }
  ],
  "metadata": {
    "colab": {
      "provenance": [],
      "include_colab_link": true
    },
    "kernelspec": {
      "display_name": "base",
      "language": "python",
      "name": "python3"
    },
    "language_info": {
      "codemirror_mode": {
        "name": "ipython",
        "version": 3
      },
      "file_extension": ".py",
      "mimetype": "text/x-python",
      "name": "python",
      "nbconvert_exporter": "python",
      "pygments_lexer": "ipython3",
      "version": "3.9.6"
    }
  },
  "nbformat": 4,
  "nbformat_minor": 0
}